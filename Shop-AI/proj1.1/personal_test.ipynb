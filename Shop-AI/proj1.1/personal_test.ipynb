{
 "cells": [
  {
   "cell_type": "code",
   "execution_count": 1,
   "id": "07ea4506-470b-4864-bf68-e183148bf471",
   "metadata": {},
   "outputs": [],
   "source": [
    "import pandas as pd \n",
    "import matplotlib.pyplot as plt  \n",
    "import numpy as np \n",
    "#استدعاء المكتبات الاولى لتحليل البيانات والتانية للرسم البياني والتالتة للتعاملات الرقمية "
   ]
  },
  {
   "cell_type": "code",
   "execution_count": 2,
   "id": "8070d230-ad09-40a5-92b6-d7cfa5fd3857",
   "metadata": {},
   "outputs": [
    {
     "name": "stdout",
     "output_type": "stream",
     "text": [
      "Requirement already satisfied: mysql.connector in c:\\users\\aldaleel\\anaconda3\\lib\\site-packages (2.2.9)\n",
      "Note: you may need to restart the kernel to use updated packages.\n"
     ]
    }
   ],
   "source": [
    "pip install mysql.connector"
   ]
  },
  {
   "cell_type": "code",
   "execution_count": 6,
   "id": "9a781079-4625-4767-b178-b63bcbef1ea8",
   "metadata": {},
   "outputs": [],
   "source": [
    "def make_connection_with_db():\n",
    "    import mysql.connector  \n",
    "    connection_mydb = mysql.connector.connect(\n",
    "        host = 'localhost', \n",
    "        user = 'root', \n",
    "        password = '',\n",
    "        database = 'wp-ecommerce'\n",
    "    )\n",
    "    cursor = connection_mydb.cursor(dictionary=True)\n",
    "    return connection_mydb, cursor\n",
    "    "
   ]
  },
  {
   "cell_type": "code",
   "execution_count": null,
   "id": "dca9d68e-aa7d-4605-9ab7-35a8320b14fd",
   "metadata": {},
   "outputs": [],
   "source": []
  },
  {
   "cell_type": "code",
   "execution_count": 4,
   "id": "ffd4abca-2bf4-4653-bbda-3cf6304eb89c",
   "metadata": {},
   "outputs": [],
   "source": [
    "def get_customers_by_country():\n",
    "    _,cursor = make_connection_with_db()\n",
    "\n",
    "    sql = '''SELECT country,COUNT(customer_id)as count_by_country FROM wp_wc_customer_lookup GROUP by country;\n",
    "    \n",
    "        '''\n",
    "    cursor.execute(sql)\n",
    "    customers_results = cursor.fetchall()\n",
    "    df = pd.DataFrame(columns=['country','count_by_country'])\n",
    "    for customer in customers_results :\n",
    "        obj = {\n",
    "                \"country\":[customer['country']],\n",
    "            \"count_by_country\":[customer['count_by_country']]\n",
    "        }\n",
    "        df_obj = pd.DataFrame(obj) # تخويل القاموس الى dataframe\n",
    "        df = pd.concat([df,df_obj], ignore_index= True)\n",
    "    return df "
   ]
  },
  {
   "cell_type": "code",
   "execution_count": 7,
   "id": "47d3f92e-fff4-4cf6-9000-eced6a08d5bd",
   "metadata": {},
   "outputs": [
    {
     "data": {
      "text/html": [
       "<div>\n",
       "<style scoped>\n",
       "    .dataframe tbody tr th:only-of-type {\n",
       "        vertical-align: middle;\n",
       "    }\n",
       "\n",
       "    .dataframe tbody tr th {\n",
       "        vertical-align: top;\n",
       "    }\n",
       "\n",
       "    .dataframe thead th {\n",
       "        text-align: right;\n",
       "    }\n",
       "</style>\n",
       "<table border=\"1\" class=\"dataframe\">\n",
       "  <thead>\n",
       "    <tr style=\"text-align: right;\">\n",
       "      <th></th>\n",
       "      <th>country</th>\n",
       "      <th>count_by_country</th>\n",
       "    </tr>\n",
       "  </thead>\n",
       "  <tbody>\n",
       "    <tr>\n",
       "      <th>0</th>\n",
       "      <td>AE</td>\n",
       "      <td>209</td>\n",
       "    </tr>\n",
       "    <tr>\n",
       "      <th>1</th>\n",
       "      <td>BH</td>\n",
       "      <td>218</td>\n",
       "    </tr>\n",
       "    <tr>\n",
       "      <th>2</th>\n",
       "      <td>JO</td>\n",
       "      <td>187</td>\n",
       "    </tr>\n",
       "    <tr>\n",
       "      <th>3</th>\n",
       "      <td>KW</td>\n",
       "      <td>188</td>\n",
       "    </tr>\n",
       "    <tr>\n",
       "      <th>4</th>\n",
       "      <td>SA</td>\n",
       "      <td>179</td>\n",
       "    </tr>\n",
       "  </tbody>\n",
       "</table>\n",
       "</div>"
      ],
      "text/plain": [
       "  country count_by_country\n",
       "0      AE              209\n",
       "1      BH              218\n",
       "2      JO              187\n",
       "3      KW              188\n",
       "4      SA              179"
      ]
     },
     "execution_count": 7,
     "metadata": {},
     "output_type": "execute_result"
    }
   ],
   "source": [
    "df_customers_countries = get_customers_by_country()\n",
    "df_customers_countries"
   ]
  },
  {
   "cell_type": "code",
   "execution_count": 27,
   "id": "dbb31c81-b177-46e8-8c95-e391efee5323",
   "metadata": {},
   "outputs": [],
   "source": [
    "def show_customers_by_countries_bar():\n",
    "    df_customers_countries = get_customers_by_country()\n",
    "    x = df_customers_countries['country']\n",
    "    y = df_customers_countries['count_by_country']\n",
    "    plt.xlabel('country')\n",
    "    plt.ylabel('count')\n",
    "    \n",
    "    plt.title('Customers Per Countries')\n",
    "    colors= []\n",
    "    for i in range(len(x)):\n",
    "        colors.append([np.random.rand(), np.random.rand(), np.random.rand()])\n",
    "        plt.text(x=i, y=y[i], s=y[i], ha='center')\n",
    "        plt.bar(x,y, color=colors)\n",
    "    plt.show()"
   ]
  },
  {
   "cell_type": "code",
   "execution_count": 28,
   "id": "775258df-a725-441f-ad33-77b78ea52ab7",
   "metadata": {},
   "outputs": [
    {
     "data": {
      "image/png": "[encoded data removed]",
      "text/plain": [
       "<Figure size 640x480 with 1 Axes>"
      ]
     },
     "metadata": {},
     "output_type": "display_data"
    }
   ],
   "source": [
    "show_customers_by_countries_bar()"
   ]
  },
  {
   "cell_type": "code",
   "execution_count": 34,
   "id": "0c00f8e8-3680-4d1a-9c78-92576c7d8899",
   "metadata": {},
   "outputs": [
    {
     "data": {
      "image/png": "[encoded data removed]",
      "text/plain": [
       "<Figure size 640x480 with 1 Axes>"
      ]
     },
     "metadata": {},
     "output_type": "display_data"
    }
   ],
   "source": [
    "def show_customers_by_countries_pie():\n",
    "    df_customers_countries = get_customers_by_country()\n",
    "\n",
    "    plt.pie(df_customers_countries['count_by_country'],\n",
    "            labels=df_customers_countries['country'],\n",
    "            autopct='%1.1f%%')\n",
    "\n",
    "    plt.title('Customers Per Countries')\n",
    "    plt.show()\n",
    "\n",
    "# استدعاء الدالة لرسم المخطط الدائري\n",
    "show_customers_by_countries_pie()"
   ]
  },
  {
   "cell_type": "code",
   "execution_count": null,
   "id": "a31d4584-46e1-42ac-848a-bf373d1da6c5",
   "metadata": {},
   "outputs": [],
   "source": []
  },
  {
   "cell_type": "code",
   "execution_count": null,
   "id": "25d06f18-bb2c-479d-8e23-625df8d372e3",
   "metadata": {},
   "outputs": [],
   "source": []
  },
  {
   "cell_type": "code",
   "execution_count": null,
   "id": "dbd84e63-ea04-4a8b-9347-bd58cb0aee9b",
   "metadata": {},
   "outputs": [],
   "source": []
  },
  {
   "cell_type": "code",
   "execution_count": null,
   "id": "6d6bd665-1a3c-4d44-b3c5-a954d5e4fd08",
   "metadata": {},
   "outputs": [],
   "source": []
  },
  {
   "cell_type": "code",
   "execution_count": null,
   "id": "9e8974c3-ba09-41b9-b301-40ef17c7c57c",
   "metadata": {},
   "outputs": [],
   "source": []
  },
  {
   "cell_type": "code",
   "execution_count": null,
   "id": "d04ffd85-8623-4580-8946-a88c3a227459",
   "metadata": {},
   "outputs": [],
   "source": []
  },
  {
   "cell_type": "code",
   "execution_count": null,
   "id": "b24bb053-2a00-4d6e-9aa6-3fd30079156e",
   "metadata": {},
   "outputs": [],
   "source": []
  },
  {
   "cell_type": "code",
   "execution_count": null,
   "id": "692426b7-2c82-4463-940a-5017b99e6647",
   "metadata": {},
   "outputs": [],
   "source": []
  },
  {
   "cell_type": "code",
   "execution_count": null,
   "id": "5fecb259-d1e2-4e53-b555-dc339d1f5e2b",
   "metadata": {},
   "outputs": [],
   "source": []
  },
  {
   "cell_type": "code",
   "execution_count": null,
   "id": "dd6e174d-1e56-4b0f-8ebe-b517167d4bee",
   "metadata": {},
   "outputs": [],
   "source": []
  },
  {
   "cell_type": "code",
   "execution_count": null,
   "id": "b479b9d2-d2a3-411f-9653-6ed554da269d",
   "metadata": {},
   "outputs": [],
   "source": []
  },
  {
   "cell_type": "code",
   "execution_count": null,
   "id": "84fe494a-f015-4427-8006-0d6f977de38e",
   "metadata": {},
   "outputs": [],
   "source": []
  },
  {
   "cell_type": "code",
   "execution_count": null,
   "id": "bdcbafe6-310a-4331-904e-9245fc223f41",
   "metadata": {},
   "outputs": [],
   "source": []
  },
  {
   "cell_type": "code",
   "execution_count": null,
   "id": "ce1a0751-cb43-4b14-b55c-540a5678271a",
   "metadata": {},
   "outputs": [],
   "source": []
  },
  {
   "cell_type": "code",
   "execution_count": null,
   "id": "a5055ca2-e45a-4c99-96b7-efe2eaececcd",
   "metadata": {},
   "outputs": [],
   "source": []
  },
  {
   "cell_type": "code",
   "execution_count": null,
   "id": "a3ca13bf-5f04-4499-a55e-132d2d3ae568",
   "metadata": {},
   "outputs": [],
   "source": []
  },
  {
   "cell_type": "code",
   "execution_count": null,
   "id": "40d4d539-8bc0-4544-85f6-5625fdd43fef",
   "metadata": {},
   "outputs": [],
   "source": []
  },
  {
   "cell_type": "code",
   "execution_count": null,
   "id": "421ae351-0da6-40c5-94a5-a5c94370fcfe",
   "metadata": {},
   "outputs": [],
   "source": []
  },
  {
   "cell_type": "code",
   "execution_count": null,
   "id": "7981fe3e-aad4-428f-9f69-0a310bec733c",
   "metadata": {},
   "outputs": [],
   "source": []
  },
  {
   "cell_type": "code",
   "execution_count": null,
   "id": "8700115d-6d49-4f88-b30f-056370d3b564",
   "metadata": {},
   "outputs": [],
   "source": []
  }
 ],
 "metadata": {
  "kernelspec": {
   "display_name": "Python 3 (ipykernel)",
   "language": "python",
   "name": "python3"
  },
  "language_info": {
   "codemirror_mode": {
    "name": "ipython",
    "version": 3
   },
   "file_extension": ".py",
   "mimetype": "text/x-python",
   "name": "python",
   "nbconvert_exporter": "python",
   "pygments_lexer": "ipython3",
   "version": "3.11.7"
  }
 },
 "nbformat": 4,
 "nbformat_minor": 5
}
